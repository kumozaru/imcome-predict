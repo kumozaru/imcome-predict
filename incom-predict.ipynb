{
 "cells": [
  {
   "cell_type": "code",
   "execution_count": 1,
   "metadata": {},
   "outputs": [],
   "source": [
    "import pandas as pd\n",
    "import numpy as np\n",
    "import matplotlib.pyplot as plt\n",
    "from sklearn.model_selection import train_test_split\n",
    "import os\n",
    "import numpy as np\n",
    "%matplotlib inline\n",
    "\n",
    "#ファイルの取り込み\n",
    "os.chdir(\"C:\\study\\income\")\n",
    "train = pd.read_csv('train.tsv', delimiter='\\t')\n",
    "test = pd.read_csv('test.tsv', delimiter='\\t')\n",
    "\n",
    "#Yの値をカテゴリ変数に変換\n",
    "train.Y = train.Y.replace('<=50K', 0)\n",
    "train.Y = train.Y.replace('>50K', 1)\n",
    "\n",
    "#カテゴリ変数→ダミー変数に変換\n",
    "train2 = pd.get_dummies(train)\n",
    "test2 = pd.get_dummies(test)\n",
    "\n",
    "#教師データを分割\n",
    "train_train, train_test = train_test_split(train2, test_size=0.3, random_state=42)\n",
    "\n",
    "\n",
    "\n",
    "\n"
   ]
  },
  {
   "cell_type": "code",
   "execution_count": 2,
   "metadata": {
    "scrolled": true
   },
   "outputs": [
    {
     "data": {
      "text/plain": [
       "id                                           int64\n",
       "age                                          int64\n",
       "fnlwgt                                       int64\n",
       "education-num                                int64\n",
       "capital-gain                                 int64\n",
       "capital-loss                                 int64\n",
       "hours-per-week                               int64\n",
       "Y                                            int64\n",
       "workclass_?                                  uint8\n",
       "workclass_Federal-gov                        uint8\n",
       "workclass_Local-gov                          uint8\n",
       "workclass_Never-worked                       uint8\n",
       "workclass_Private                            uint8\n",
       "workclass_Self-emp-inc                       uint8\n",
       "workclass_Self-emp-not-inc                   uint8\n",
       "workclass_State-gov                          uint8\n",
       "workclass_Without-pay                        uint8\n",
       "education_10th                               uint8\n",
       "education_11th                               uint8\n",
       "education_12th                               uint8\n",
       "education_1st-4th                            uint8\n",
       "education_5th-6th                            uint8\n",
       "education_7th-8th                            uint8\n",
       "education_9th                                uint8\n",
       "education_Assoc-acdm                         uint8\n",
       "education_Assoc-voc                          uint8\n",
       "education_Bachelors                          uint8\n",
       "education_Doctorate                          uint8\n",
       "education_HS-grad                            uint8\n",
       "education_Masters                            uint8\n",
       "                                             ...  \n",
       "native-country_Germany                       uint8\n",
       "native-country_Greece                        uint8\n",
       "native-country_Guatemala                     uint8\n",
       "native-country_Haiti                         uint8\n",
       "native-country_Honduras                      uint8\n",
       "native-country_Hong                          uint8\n",
       "native-country_Hungary                       uint8\n",
       "native-country_India                         uint8\n",
       "native-country_Iran                          uint8\n",
       "native-country_Ireland                       uint8\n",
       "native-country_Italy                         uint8\n",
       "native-country_Jamaica                       uint8\n",
       "native-country_Japan                         uint8\n",
       "native-country_Laos                          uint8\n",
       "native-country_Mexico                        uint8\n",
       "native-country_Nicaragua                     uint8\n",
       "native-country_Outlying-US(Guam-USVI-etc)    uint8\n",
       "native-country_Peru                          uint8\n",
       "native-country_Philippines                   uint8\n",
       "native-country_Poland                        uint8\n",
       "native-country_Portugal                      uint8\n",
       "native-country_Puerto-Rico                   uint8\n",
       "native-country_Scotland                      uint8\n",
       "native-country_South                         uint8\n",
       "native-country_Taiwan                        uint8\n",
       "native-country_Thailand                      uint8\n",
       "native-country_Trinadad&Tobago               uint8\n",
       "native-country_United-States                 uint8\n",
       "native-country_Vietnam                       uint8\n",
       "native-country_Yugoslavia                    uint8\n",
       "Length: 109, dtype: object"
      ]
     },
     "execution_count": 2,
     "metadata": {},
     "output_type": "execute_result"
    }
   ],
   "source": [
    "#データを数値データ化できたか確認\n",
    "train_train.dtypes"
   ]
  },
  {
   "cell_type": "code",
   "execution_count": 3,
   "metadata": {},
   "outputs": [],
   "source": [
    "#教師データからY行を削除\n",
    "train_y = train_train.Y\n",
    "#print(train_y)\n",
    "train_x = train_train.drop('Y', axis=1)\n",
    "#print(train_x)"
   ]
  },
  {
   "cell_type": "code",
   "execution_count": 4,
   "metadata": {},
   "outputs": [],
   "source": [
    "#テストデータからもYを削除\n",
    "test_y = train_test.Y\n",
    "#print(train_y)\n",
    "test_x = train_test.drop('Y', axis=1)\n",
    "#print(train_x)"
   ]
  },
  {
   "cell_type": "code",
   "execution_count": 5,
   "metadata": {},
   "outputs": [
    {
     "name": "stdout",
     "output_type": "stream",
     "text": [
      "16281\n"
     ]
    }
   ],
   "source": [
    "#削除確認\n",
    "#print(test_y)\n",
    "print(len(test2))"
   ]
  },
  {
   "cell_type": "code",
   "execution_count": 18,
   "metadata": {},
   "outputs": [],
   "source": [
    "#決定木\n",
    "#from sklearn.tree import DecisionTreeClassifier\n",
    "#clf = DecisionTreeClassifier(random_state=0)\n",
    "#clf = clf.fit(train_x, train_y)\n",
    "#pred = clf.predict(test2)\n"
   ]
  },
  {
   "cell_type": "code",
   "execution_count": 10,
   "metadata": {},
   "outputs": [],
   "source": [
    "#ランダムフォレスト\n",
    "from sklearn.ensemble import RandomForestClassifier\n",
    "clf = RandomForestClassifier(random_state=0)\n",
    "clf = clf.fit(train_x, train_y)\n",
    "pred = clf.predict(test2)"
   ]
  },
  {
   "cell_type": "code",
   "execution_count": 12,
   "metadata": {},
   "outputs": [
    {
     "data": {
      "text/plain": [
       "0.8509418509418509"
      ]
     },
     "execution_count": 12,
     "metadata": {},
     "output_type": "execute_result"
    }
   ],
   "source": [
    "#精度の確認\n",
    "from sklearn.metrics import (roc_curve, auc, accuracy_score)\n",
    "\n",
    "pred_auc = clf.predict(test_x)\n",
    "fpr, tpr, thresholds = roc_curve(test_y, pred_auc, pos_label=1)\n",
    "auc(fpr, tpr)\n",
    "accuracy_score(pred_auc, test_y)"
   ]
  },
  {
   "cell_type": "code",
   "execution_count": 13,
   "metadata": {},
   "outputs": [],
   "source": [
    "resultid = np.array(test[\"id\"].astype(int))"
   ]
  },
  {
   "cell_type": "code",
   "execution_count": 14,
   "metadata": {},
   "outputs": [
    {
     "name": "stdout",
     "output_type": "stream",
     "text": [
      "16281\n",
      "16281\n",
      "4884\n"
     ]
    }
   ],
   "source": [
    "print(len(resultid))\n",
    "print(len(pred))\n",
    "print(len(pred_auc))"
   ]
  },
  {
   "cell_type": "code",
   "execution_count": 15,
   "metadata": {},
   "outputs": [],
   "source": [
    "resultout = pd.DataFrame(pred, resultid, columns=[\"result\"])"
   ]
  },
  {
   "cell_type": "code",
   "execution_count": 16,
   "metadata": {},
   "outputs": [
    {
     "name": "stdout",
     "output_type": "stream",
     "text": [
      "      result\n",
      "0      <=50K\n",
      "1      <=50K\n",
      "2      <=50K\n",
      "3       >50K\n",
      "4      <=50K\n",
      "6      <=50K\n",
      "7       >50K\n",
      "8      <=50K\n",
      "9      <=50K\n",
      "12     <=50K\n",
      "15     <=50K\n",
      "16     <=50K\n",
      "17     <=50K\n",
      "18     <=50K\n",
      "22      >50K\n",
      "25     <=50K\n",
      "27     <=50K\n",
      "29     <=50K\n",
      "31     <=50K\n",
      "32     <=50K\n",
      "33      >50K\n",
      "34      >50K\n",
      "35     <=50K\n",
      "36      >50K\n",
      "37     <=50K\n",
      "38     <=50K\n",
      "42     <=50K\n",
      "44      >50K\n",
      "45     <=50K\n",
      "47     <=50K\n",
      "...      ...\n",
      "32511  <=50K\n",
      "32512  <=50K\n",
      "32513  <=50K\n",
      "32516  <=50K\n",
      "32517  <=50K\n",
      "32521  <=50K\n",
      "32522   >50K\n",
      "32524   >50K\n",
      "32527  <=50K\n",
      "32528  <=50K\n",
      "32529  <=50K\n",
      "32532  <=50K\n",
      "32533  <=50K\n",
      "32534  <=50K\n",
      "32536  <=50K\n",
      "32537   >50K\n",
      "32538  <=50K\n",
      "32539   >50K\n",
      "32540  <=50K\n",
      "32541  <=50K\n",
      "32542  <=50K\n",
      "32544  <=50K\n",
      "32545  <=50K\n",
      "32546  <=50K\n",
      "32548  <=50K\n",
      "32549  <=50K\n",
      "32556  <=50K\n",
      "32558  <=50K\n",
      "32559  <=50K\n",
      "32560  <=50K\n",
      "\n",
      "[16281 rows x 1 columns]\n"
     ]
    }
   ],
   "source": [
    "resultout.result = resultout.result.replace(0, '<=50K')\n",
    "resultout.result = resultout.result.replace(1, '>50K')\n",
    "print(resultout)"
   ]
  },
  {
   "cell_type": "code",
   "execution_count": 17,
   "metadata": {},
   "outputs": [],
   "source": [
    "resultout.to_csv(\"submit.csv\")"
   ]
  }
 ],
 "metadata": {
  "kernelspec": {
   "display_name": "Python 3",
   "language": "python",
   "name": "python3"
  },
  "language_info": {
   "codemirror_mode": {
    "name": "ipython",
    "version": 3
   },
   "file_extension": ".py",
   "mimetype": "text/x-python",
   "name": "python",
   "nbconvert_exporter": "python",
   "pygments_lexer": "ipython3",
   "version": "3.6.4"
  }
 },
 "nbformat": 4,
 "nbformat_minor": 2
}
